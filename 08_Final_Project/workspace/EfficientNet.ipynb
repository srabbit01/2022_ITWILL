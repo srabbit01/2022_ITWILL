{
  "nbformat": 4,
  "nbformat_minor": 0,
  "metadata": {
    "colab": {
      "name": "2)전이학습모델_EfficientNet.ipynb",
      "provenance": [],
      "collapsed_sections": []
    },
    "kernelspec": {
      "name": "python3",
      "display_name": "Python 3"
    },
    "language_info": {
      "name": "python"
    },
    "accelerator": "GPU",
    "gpuClass": "standard"
  },
  "cells": [
    {
      "cell_type": "markdown",
      "source": [
        "# 1. 모듈 로딩"
      ],
      "metadata": {
        "id": "H3gAE8U_r6sv"
      }
    },
    {
      "cell_type": "code",
      "execution_count": null,
      "metadata": {
        "id": "uvgKqiMRxHH4",
        "cellView": "form"
      },
      "outputs": [],
      "source": [
        "#@title\n",
        "# 0. 다운그레이드\n",
        "!pip install -U efficientnet\n",
        "!pip install tensorflow==2.1.0\n",
        "!pip install keras==2.3.1\n",
        "!pip uninstall h5py\n",
        "!pip install h5py==2.10.0"
      ]
    },
    {
      "cell_type": "code",
      "source": [
        "#@title\n",
        "# 1. 모듈 로딩\n",
        "import os\n",
        "import glob\n",
        "\n",
        "import pandas as pd\n",
        "import numpy as np\n",
        "import matplotlib.pyplot as plt\n",
        "\n",
        "import tensorflow as tf\n",
        "from tensorflow import keras\n",
        "\n",
        "import seaborn as sns\n",
        "sns.set_style('darkgrid')\n",
        "\n",
        "from keras.preprocessing import image\n",
        "from keras import (Input, Model, layers, losses, optimizers, metrics, utils, models)\n",
        "from keras.applications.imagenet_utils import decode_predictions\n",
        "from keras.preprocessing.image import ImageDataGenerator\n",
        "from keras.callbacks import EarlyStopping\n",
        "from keras.models import Sequential\n",
        "from keras.layers import Conv2D, MaxPooling2D,GlobalAveragePooling2D \n",
        "from keras.layers import Dense, Dropout, Flatten\n",
        "\n",
        "from sklearn.metrics import accuracy_score\n",
        "from sklearn.metrics import confusion_matrix, classification_report\n",
        "\n",
        "import efficientnet.keras as efn\n",
        "from efficientnet.keras import EfficientNetB0, EfficientNetB3\n",
        "from efficientnet.keras import center_crop_and_resize, preprocess_input"
      ],
      "metadata": {
        "colab": {
          "base_uri": "https://localhost:8080/"
        },
        "id": "q6S2KPeNxm3R",
        "outputId": "2c880d48-9c64-4969-cfda-5b1b5e5b74d7",
        "cellView": "form"
      },
      "execution_count": null,
      "outputs": [
        {
          "output_type": "stream",
          "name": "stderr",
          "text": [
            "Using TensorFlow backend.\n"
          ]
        }
      ]
    },
    {
      "cell_type": "markdown",
      "source": [
        "# 2. 데이터 불러오기"
      ],
      "metadata": {
        "id": "T7FRM2Yi1kme"
      }
    },
    {
      "cell_type": "code",
      "source": [
        "# 2. 데이터 불러오기\n",
        "# Kaggle dataset 다운로드\n",
        "os.environ['KAGGLE_CONFIG_DIR'] = \"/content\" \n",
        "!kaggle datasets download -d gpiosenka/sports-classification"
      ],
      "metadata": {
        "colab": {
          "base_uri": "https://localhost:8080/"
        },
        "id": "qacFxnikxnEC",
        "outputId": "e1ca0c50-9c3a-45b1-f62e-c404c0d86aa9"
      },
      "execution_count": null,
      "outputs": [
        {
          "output_type": "stream",
          "name": "stdout",
          "text": [
            "Warning: Your Kaggle API key is readable by other users on this system! To fix this, you can run 'chmod 600 /content/kaggle.json'\n",
            "Downloading sports-classification.zip to /content\n",
            " 94% 451M/477M [00:17<00:01, 21.6MB/s]\n",
            "100% 477M/477M [00:17<00:00, 28.2MB/s]\n"
          ]
        }
      ]
    },
    {
      "cell_type": "code",
      "source": [
        "# dataset 압축해제\n",
        "!unzip sports-classification.zip"
      ],
      "metadata": {
        "id": "V5qZKEkxxuQ8"
      },
      "execution_count": null,
      "outputs": []
    },
    {
      "cell_type": "code",
      "source": [
        "# setting\n",
        "\n",
        "train = '/content/train'\n",
        "test = '/content/test'\n",
        "valid = '/content/valid'\n",
        "\n",
        "filepaths_train = list(glob.glob(train+'/**/*.jpg'))\n",
        "filepaths_valid = list(glob.glob(valid+'/**/*.jpg'))\n",
        "filepaths_test = list(glob.glob(test+'/**/*.jpg'))"
      ],
      "metadata": {
        "id": "XbkhwsKUxyGY"
      },
      "execution_count": null,
      "outputs": []
    },
    {
      "cell_type": "code",
      "source": [
        "#@title\n",
        "def proc_img(filepath):\n",
        "    \"\"\" Create a DataFrame with the filepath and the labels of the pictures\n",
        "    \"\"\"\n",
        "\n",
        "    labels = list(map(lambda x: os.path.split(os.path.split(x)[0])[1], filepath))\n",
        "\n",
        "    filepath = pd.Series(filepath, name='Filepath').astype(str)\n",
        "    labels = pd.Series(labels, name='Label')\n",
        "\n",
        "    # Concatenate filepaths and labels\n",
        "    df = pd.concat([filepath, labels], axis=1)\n",
        "\n",
        "    # Shuffle the DataFrame and reset index\n",
        "    df = df.sample(frac=1).reset_index(drop = True)\n",
        "    \n",
        "    return df\n",
        "\n",
        "train_df = proc_img(filepaths_train)\n",
        "valid_df = proc_img(filepaths_valid)\n",
        "test_df = proc_img(filepaths_test)\n",
        "\n",
        "\n",
        "print(f'Number of training pictures: {train_df.shape[0]}')\n",
        "print(f'Number of test pictures: {test_df.shape[0]}')\n",
        "'''\n",
        "Number of training pictures: 13572\n",
        "Number of test pictures: 500\n",
        "'''"
      ],
      "metadata": {
        "id": "jDWZ69QEx2Gw",
        "cellView": "form"
      },
      "execution_count": null,
      "outputs": []
    },
    {
      "cell_type": "code",
      "source": [
        "#@title\n",
        "print('-- Training set --\\n')\n",
        "print(f'Number of pictures: {train_df.shape[0]}\\n')\n",
        "print(f'Number of different labels: {len(train_df.Label.unique())}\\n')\n",
        "print(f'Labels: {train_df.Label.unique()}')\n",
        "\n",
        "'''\n",
        "-- Training set --\n",
        "\n",
        "Number of pictures: 13572\n",
        "\n",
        "Number of different labels: 100\n",
        "\n",
        "Labels: ['sidecar racing' 'polo' 'figure skating men' 'swimming' 'frisbee'\n",
        " 'formula 1 racing' 'log rolling' 'hammer throw' 'snowmobile racing'\n",
        " 'canoe slamon' 'bike polo' 'water polo' 'jai alai' 'horse jumping'\n",
        " 'wingsuit flying' 'water cycling' 'rowing' 'hockey' 'chuckwagon racing'\n",
        " 'croquet' 'judo' 'nascar racing' 'football' 'bobsled' 'parallel bar'\n",
        " 'pommel horse' 'harness racing' 'hurdles' 'figure skating pairs'\n",
        " 'pole vault' 'bungee jumping' 'roller derby' 'cricket' 'ice climbing'\n",
        " 'curling' 'tennis' 'mushing' 'skydiving' 'shot put' 'luge' 'fencing'\n",
        " 'horseshoe pitching' 'archery' 'ampute football' 'balance beam'\n",
        " 'axe throwing' 'rings' 'rock climbing' 'sumo wrestling' 'field hockey'\n",
        " 'wheelchair racing' 'baseball' 'uneven bars' 'volleyball' 'javelin'\n",
        " 'speed skating' 'surfing' 'cheerleading' 'tug of war' 'high jump'\n",
        " 'motorcycle racing' 'weightlifting' 'snow boarding' 'jousting'\n",
        " 'billiards' 'pole climbing' 'shuffleboard' 'bmx' 'baton twirling'\n",
        " 'bowling' 'boxing' 'barell racing' 'rollerblade racing' 'disc golf'\n",
        " 'trapeze' 'ultimate' 'hang gliding' 'golf' 'pole dancing' 'fly fishing'\n",
        " 'lacrosse' 'track bicycle' 'figure skating women' 'olympic wrestling'\n",
        " 'rugby' 'giant slalom' 'air hockey' 'horse racing' 'table tennis'\n",
        " 'ice yachting' 'sailboat racing' 'bull riding' 'ski jumping'\n",
        " 'steer wrestling' 'gaga' 'basketball' 'sky surfing'\n",
        " 'wheelchair basketball' 'hydroplane racing' 'arm wrestling']\n",
        " '''"
      ],
      "metadata": {
        "id": "CrZSAhxC_zws",
        "cellView": "form"
      },
      "execution_count": null,
      "outputs": []
    },
    {
      "cell_type": "code",
      "source": [
        "# train data 확인\n",
        "\n",
        "fig, axes = plt.subplots(nrows=3, ncols=5, figsize=(10, 10),\n",
        "                        subplot_kw={'xticks': [], 'yticks': []})\n",
        "\n",
        "for i, ax in enumerate(axes.flat):\n",
        "    ax.imshow(plt.imread(train_df.Filepath[i]))\n",
        "    ax.set_title(train_df.Label[i])\n",
        "plt.tight_layout()\n",
        "plt.show()"
      ],
      "metadata": {
        "id": "ATYFRSbLx5QZ"
      },
      "execution_count": null,
      "outputs": []
    },
    {
      "cell_type": "markdown",
      "source": [
        "<img src =\"https://drive.google.com/uc?id=1f0bk74XtQNCjQTQPU7eduJr15t9-CwrQ\" height = 600 width = 800>"
      ],
      "metadata": {
        "id": "jU7tkG1CzSqU"
      }
    },
    {
      "cell_type": "markdown",
      "source": [
        "# 3. 파라미터 지정"
      ],
      "metadata": {
        "id": "Ir6sgbbb13sB"
      }
    },
    {
      "cell_type": "code",
      "source": [
        "# 파라미터 설정\n",
        "\n",
        "img_height = 224\n",
        "img_width = 224\n",
        "image_size = (img_height, img_width)\n",
        "input_shape = (img_height, img_width, 3) \n",
        "\n",
        "num_classes = 100\n",
        "\n",
        "epochs = 30\n",
        "batch = 64\n",
        "callbacks = EarlyStopping(monitor='val_loss', patience=10)"
      ],
      "metadata": {
        "id": "1lIM7_T0yAB_"
      },
      "execution_count": null,
      "outputs": []
    },
    {
      "cell_type": "markdown",
      "source": [
        "# 4. 이미지 제너레이터 : 이미지 증식"
      ],
      "metadata": {
        "id": "y9Ru7_LJ1-HH"
      }
    },
    {
      "cell_type": "code",
      "source": [
        "#@title\n",
        "# 4. 이미지 제너레이터 : 이미지 증식\n",
        "\n",
        "train_data_generator = image.ImageDataGenerator(\n",
        "                                            rescale=1./255,\n",
        "                                            rotation_range=20,\n",
        "                                            width_shift_range=0.2,\n",
        "                                            height_shift_range=0.2,\n",
        "                                            shear_range=0.2,\n",
        "                                            zoom_range=0.3,\n",
        "                                            fill_mode='nearest',\n",
        "                                            horizontal_flip=True,\n",
        "                                            vertical_flip=False,\n",
        "                                            brightness_range=(0.75,1.25)\n",
        "                                            )\n",
        "test_data_generator = image.ImageDataGenerator(rescale=1./255)\n",
        "\n",
        "train_generator = train_data_generator.flow_from_dataframe(train_df,\n",
        "                                                           x_col='Filepath',\n",
        "                                                           y_col='Label',\n",
        "                                                           target_size= image_size,\n",
        "                                                           color_mode= 'rgb',\n",
        "                                                           class_mode= 'categorical',\n",
        "                                                           batch_size= batch,\n",
        "                                                           shuffle=True,\n",
        "                                                           seed=0)\n",
        "\n",
        "val_generator = train_data_generator.flow_from_dataframe(valid_df,\n",
        "                                                         x_col='Filepath',\n",
        "                                                         y_col='Label',\n",
        "                                                         target_size= image_size,\n",
        "                                                         color_mode= 'rgb',\n",
        "                                                         class_mode= 'categorical',\n",
        "                                                         batch_size= batch,\n",
        "                                                         shuffle=True,\n",
        "                                                         seed=0)\n",
        "\n",
        "test_generator = test_data_generator.flow_from_dataframe(test_df,\n",
        "                                                         x_col='Filepath',\n",
        "                                                         y_col='Label',\n",
        "                                                         target_size= image_size,\n",
        "                                                         color_mode= 'rgb',\n",
        "                                                         class_mode= 'categorical',\n",
        "                                                         batch_size= batch)\n"
      ],
      "metadata": {
        "colab": {
          "base_uri": "https://localhost:8080/"
        },
        "id": "MgGAPBaWx9eV",
        "outputId": "8ea9629c-0e02-4640-f459-0e1660977229",
        "cellView": "form"
      },
      "execution_count": null,
      "outputs": [
        {
          "output_type": "stream",
          "name": "stdout",
          "text": [
            "Found 13572 validated image filenames belonging to 100 classes.\n",
            "Found 500 validated image filenames belonging to 100 classes.\n",
            "Found 500 validated image filenames belonging to 100 classes.\n"
          ]
        }
      ]
    },
    {
      "cell_type": "markdown",
      "source": [
        "# 5. 모델 생성"
      ],
      "metadata": {
        "id": "2AQ3k0I32GHf"
      }
    },
    {
      "cell_type": "code",
      "source": [
        "#@title\n",
        "# 베이스 모델 : EfficientNetB0\n",
        "\n",
        "base_model = EfficientNetB0(weights='imagenet', \n",
        "                            input_shape= input_shape,\n",
        "                            include_top = False)\n",
        "base_model.trainable = True\n",
        "\n",
        "for layer in base_model.layers[:200]: # 전체 레이어 갯수 230개 중 200까지는 가중치 값을 조정 하지 않고, 그 다음부터 조정할 수 있게 설정 \n",
        "  layer.trainable = False\n",
        "\n",
        "base_model.summary()"
      ],
      "metadata": {
        "id": "_CuhY1ZAyGvt",
        "cellView": "form"
      },
      "execution_count": null,
      "outputs": []
    },
    {
      "cell_type": "code",
      "source": [
        "#@title\n",
        "model = Sequential()\n",
        "model.add(base_model)\n",
        "model.add(GlobalAveragePooling2D())\n",
        "model.add(Dropout(0.2))\n",
        "model.add(Dense(num_classes, activation = 'softmax'))\n",
        "\n",
        "model.summary()\n",
        "'''\n",
        "Model: \"sequential_1\"\n",
        "_________________________________________________________________\n",
        "Layer (type)                 Output Shape              Param #   \n",
        "=================================================================\n",
        "efficientnet-b0 (Model)      (None, 7, 7, 1280)        4049564   \n",
        "_________________________________________________________________\n",
        "global_average_pooling2d_1 ( (None, 1280)              0         \n",
        "_________________________________________________________________\n",
        "dropout_1 (Dropout)          (None, 1280)              0         \n",
        "_________________________________________________________________\n",
        "dense_1 (Dense)              (None, 100)               128100    \n",
        "=================================================================\n",
        "Total params: 4,177,664\n",
        "Trainable params: 1,624,260\n",
        "Non-trainable params: 2,553,404\n",
        "_________________________________________________________________\n",
        "'''\n"
      ],
      "metadata": {
        "id": "EkXV39iFyOIP",
        "cellView": "form"
      },
      "execution_count": null,
      "outputs": []
    },
    {
      "cell_type": "code",
      "source": [
        "#@title\n",
        "model.compile(loss='categorical_crossentropy', optimizer='adam', metrics=['accuracy'])\n",
        "\n",
        "history = model.fit(train_generator, \n",
        "                      validation_data = val_generator,\n",
        "                      callbacks = [callbacks], # EarlyStopping Patience: 10\n",
        "                      epochs = epochs, verbose = 1) # 30에폭\n",
        "'''\n",
        "Epoch 26/30 (EarlyStopping)\n",
        "213/213 [==============================] - 184s 862ms/step - loss: 0.0844 - accuracy: 0.9759 - val_loss: 1.4326 - val_accuracy: 0.7520\n",
        "'''"
      ],
      "metadata": {
        "id": "y84DGAbGyeWX",
        "cellView": "form"
      },
      "execution_count": null,
      "outputs": []
    },
    {
      "cell_type": "markdown",
      "source": [
        "# 6. 히스토리 시각화"
      ],
      "metadata": {
        "id": "sM6KSLJh2UwV"
      }
    },
    {
      "cell_type": "code",
      "source": [
        "# 6. 히스토리 시각화\n",
        "epochs = range(1, 27) \n",
        "\n",
        "# acc vs val_acc   \n",
        "plt.plot(epochs, history.history['accuracy'], 'b--', label='train acc')\n",
        "plt.plot(epochs, history.history['val_accuracy'], 'r', label='val acc')\n",
        "plt.title('Training vs validation accuracy')\n",
        "plt.xlabel('epoch')\n",
        "plt.ylabel('accuray')\n",
        "plt.legend(loc='best')\n",
        "plt.show()\n",
        "\n",
        "# loss vs val_loss \n",
        "plt.plot(epochs, history.history['loss'], 'b--', label='train loss')\n",
        "plt.plot(epochs, history.history['val_loss'], 'r', label='val loss')\n",
        "plt.title('Training vs validation loss')\n",
        "plt.xlabel('epoch')\n",
        "plt.ylabel('loss')\n",
        "plt.legend(loc='best')\n",
        "plt.show()"
      ],
      "metadata": {
        "id": "kBYfGvswt3RK"
      },
      "execution_count": null,
      "outputs": []
    },
    {
      "cell_type": "markdown",
      "source": [
        "<img src =\"https://drive.google.com/uc?id=1hee2zcu5Xh-v_hHviw8lX79CpUyQ6A8k\" height = 600 width = 400>"
      ],
      "metadata": {
        "id": "IrvOVBNuv5Tm"
      }
    },
    {
      "cell_type": "markdown",
      "source": [
        "# 7. 모델 평가"
      ],
      "metadata": {
        "id": "mPaltLJR2ZA9"
      }
    },
    {
      "cell_type": "markdown",
      "source": [
        "## - 테스트 데이터 예측 결과 평가"
      ],
      "metadata": {
        "id": "Pvr3CrBf2h2z"
      }
    },
    {
      "cell_type": "code",
      "source": [
        "# 1) 테스트 데이터 예측 결과 평가\n",
        "\n",
        "score = model.evaluate(test_generator)\n",
        "print('acc = ', score[1], 'loss = ', score[0])\n",
        "'''\n",
        "8/8 [==============================] - 2s 203ms/step\n",
        "acc =  0.8759999871253967 loss =  0.5379654765129089\n",
        "'''"
      ],
      "metadata": {
        "id": "LJin3hzRtsYp"
      },
      "execution_count": null,
      "outputs": []
    },
    {
      "cell_type": "markdown",
      "source": [
        "## - 분류 결과 평가"
      ],
      "metadata": {
        "id": "__RKwH_V2pNL"
      }
    },
    {
      "cell_type": "code",
      "source": [
        "# Test Result\n",
        "test_generator = test_data_generator.flow_from_directory(directory= test,\n",
        "                                                    target_size= image_size,\n",
        "                                                    color_mode= 'rgb',\n",
        "                                                    class_mode= 'sparse',\n",
        "                                                    batch_size= 500,\n",
        "                                                    shuffle= False\n",
        "                                                    )\n",
        "test_images, test_labels = test_generator.next()\n",
        "predictions = model.predict(test_images).argmax(axis = 1)"
      ],
      "metadata": {
        "id": "Gu9YiBrgpX9l",
        "colab": {
          "base_uri": "https://localhost:8080/"
        },
        "outputId": "6218586e-9663-41d4-9bcf-2464a7902bd9"
      },
      "execution_count": null,
      "outputs": [
        {
          "output_type": "stream",
          "name": "stdout",
          "text": [
            "Found 500 images belonging to 100 classes.\n"
          ]
        }
      ]
    },
    {
      "cell_type": "code",
      "source": [
        "## 숫자형 -> 문자형 변경\n",
        "# 예측 결과\n",
        "labels = (test_generator.class_indices)\n",
        "labels = dict((v,k) for k,v in labels.items())\n",
        "pred = [labels[k] for k in predictions]\n",
        "\n",
        "# 실제 결과\n",
        "y_test = [labels[k] for k in test_labels]\n",
        "\n",
        "# 분류 결과 평가\n",
        "print(classification_report(y_test, pred))"
      ],
      "metadata": {
        "id": "0W0o7jElpk1p"
      },
      "execution_count": null,
      "outputs": []
    },
    {
      "cell_type": "markdown",
      "source": [
        "<img src =\"https://drive.google.com/uc?id=1ZATlOJ4CF493kHGhjOnTSl2EzeghpQaG\" height = 600 width = 400>\n",
        "<img src =\"https://drive.google.com/uc?id=1gcKMCs0AAJ2E1MjMc94sMe2ZQA56SRDc\" height = 600 width = 400>\n"
      ],
      "metadata": {
        "id": "ZumwQErJxIAJ"
      }
    },
    {
      "cell_type": "markdown",
      "source": [
        "## - 혼동행렬 시각화"
      ],
      "metadata": {
        "id": "dhdh5BTn25x2"
      }
    },
    {
      "cell_type": "code",
      "source": [
        "# 혼동행렬 시각화\n",
        "\n",
        "cf_matrix = confusion_matrix(y_test, pred, normalize='true')\n",
        "plt.figure(figsize = (20,15))\n",
        "sns.heatmap(cf_matrix, annot=False, xticklabels = sorted(set(y_test)), yticklabels = sorted(set(y_test)))\n",
        "plt.title('Normalized Confusion Matrix')\n",
        "plt.show()"
      ],
      "metadata": {
        "id": "3XVFLWmT9hno"
      },
      "execution_count": null,
      "outputs": []
    },
    {
      "cell_type": "markdown",
      "source": [
        "<img src =\"https://drive.google.com/uc?id=1FVpUgY2pIPa9c7LwaobSxsqhK22GYCVt\" height = 800 width = 850>\n"
      ],
      "metadata": {
        "id": "uhaIggE_xrOE"
      }
    },
    {
      "cell_type": "markdown",
      "source": [
        "## - 오분류 이미지 시각화"
      ],
      "metadata": {
        "id": "migVKZJc2_Qw"
      }
    },
    {
      "cell_type": "code",
      "source": [
        "# 테스트 이미지 경로 및 실제 결과 DataFrame 생성\n",
        "Filepath = test_generator.filepaths # 테스트 이미지 경로\n",
        "test_df = pd.DataFrame({'Filepath':Filepath,'Label':y_test},columns=['Filepath','Label'])"
      ],
      "metadata": {
        "id": "GylCjSqmBcuc"
      },
      "execution_count": null,
      "outputs": []
    },
    {
      "cell_type": "code",
      "source": [
        "# 오분류된 이미지 추출\n",
        "diff = []\n",
        "for i in range(0,500):\n",
        "  if test_df.Label.iloc[i] != pred[i]:\n",
        "    diff.append(i)\n",
        "\n",
        "print('오분류된 이미지 개수 :',len(diff))\n",
        "# 오분류된 이미지 개수 : 62\n",
        "# 500개 중 62개의 이미지 오분류 됨"
      ],
      "metadata": {
        "id": "wjBjp9yV_8Rg"
      },
      "execution_count": null,
      "outputs": []
    },
    {
      "cell_type": "code",
      "source": [
        "fig, axes = plt.subplots(nrows=3, ncols=5, figsize=(15, 7),\n",
        "                        subplot_kw={'xticks': [], 'yticks': []})\n",
        "diff_15 = diff[0:15] # 오분류된 이미지 15개 지정\n",
        "\n",
        "# 오분류된 이미지 상단 15개 추출\n",
        "for ax, num in zip(axes.flat,diff_15):\n",
        "  ax.imshow(plt.imread(test_df.Filepath.iloc[num]))\n",
        "  ax.set_title(f\"True: {test_df.Label.iloc[num]}\\nPredicted: {pred[num]}\")\n",
        "plt.tight_layout()\n",
        "plt.show()"
      ],
      "metadata": {
        "id": "vZDh2xwA9rDs"
      },
      "execution_count": null,
      "outputs": []
    },
    {
      "cell_type": "markdown",
      "source": [
        "<img src =\"https://drive.google.com/uc?id=1wsf_gDiyjglbFSTibnM7CMkZ7cOiu73U\" height = 600 width = 1500>\n",
        "\n"
      ],
      "metadata": {
        "id": "Ronrtw1xyn9c"
      }
    }
  ]
}